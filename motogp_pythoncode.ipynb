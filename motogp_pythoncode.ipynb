{
 "cells": [
  {
   "cell_type": "markdown",
   "metadata": {},
   "source": [
    "<img src=\"https://upload.wikimedia.org/wikipedia/commons/a/a0/Moto_Gp_logo.svg\" width=\"150\" style=\"float: left;\">"
   ]
  },
  {
   "cell_type": "markdown",
   "metadata": {},
   "source": [
    "# MotoGPython"
   ]
  },
  {
   "cell_type": "markdown",
   "metadata": {},
   "source": [
    "We are at the Mugello circuit, where the best motogp 2020 drivers will compete:<br>\n",
    "**Rossi, Viñales, Marquez, Pedrosa, Dovizioso and Petrucci.**<br>\n",
    "Who will win? will be *23 spectacular laps*"
   ]
  },
  {
   "cell_type": "markdown",
   "metadata": {},
   "source": [
    "### Introduction\n",
    "****"
   ]
  },
  {
   "cell_type": "markdown",
   "metadata": {},
   "source": [
    "Object Oriented Programming in Python\n",
    "Below is a simple Python program that show you some basic concepts of OOP in Python:\n",
    "\n",
    "* Python Classes\n",
    "* Object Instances\n",
    "* Defining and Working with Methods\n",
    "* OOP Inheritance"
   ]
  },
  {
   "cell_type": "markdown",
   "metadata": {},
   "source": [
    "Create a class named Moto, use the __init__() function to assign values for brand, model, acceleration, top_speed, handling.<br>\n",
    "Then create two methods in the Moto class:<br>\n",
    "**print_info** that show you all the values,**setup_moto**, which contains two new variables:<br> *self.mean_speed* = acceleration x top_speed x handling and the other one *skills_pilot* = 0"
   ]
  },
  {
   "cell_type": "code",
   "execution_count": 6,
   "metadata": {},
   "outputs": [],
   "source": [
    "class Moto:\n",
    "    def __init__(self, brand, model, acceleration, top_speed, handling):\n",
    "        self.brand = brand\n",
    "        self.model = model\n",
    "        self.acceleration = acceleration\n",
    "        self.top_speed = top_speed\n",
    "        self.handling = handling\n",
    "\n",
    "    def print_info(self):\n",
    "        print(self.brand, self.model, self.acceleration, self.top_speed, self.handling)  \n",
    "\n",
    "    def setup_moto(self):\n",
    "        self.mean_speed = self.top_speed*self.acceleration*self.handling\n",
    "        skills_pilot = 0"
   ]
  },
  {
   "cell_type": "markdown",
   "metadata": {},
   "source": [
    "Now you have to define three subclasses. *Yamaha*, *Honda_Hrc*, *Ducati*. <br>\n",
    "Each class inherits the values of the upper class. A new string *name pilots* value will be added, which will contain the name of the pilot. <br>\n",
    "Then define a **new pilot** method that assigns a *skill_pilots* var to each driver and update the setting_pilot with this var.<br>\n",
    "Return *Name(pilot) has finished setting his motorcycle. Mean speed that can be achieved (setting_pilot) km!*"
   ]
  },
  {
   "cell_type": "code",
   "execution_count": 7,
   "metadata": {},
   "outputs": [],
   "source": [
    "class Yamaha(Moto):\n",
    "    def __init__(self, brand, model, acceleration, top_speed, handling, name_pilot):\n",
    "        super().__init__(brand, model, acceleration, top_speed, handling)\n",
    "        self.name_pilot = name_pilot\n",
    "\n",
    "    def pilot(self):\n",
    "        if self.name_pilot == 'Valentino Rossi':\n",
    "            skills_pilot = 0.85\n",
    "        elif self.name_pilot == 'Maverick Viñales':\n",
    "            skills_pilot = 0.79\n",
    "        self.setting_pilot = self.mean_speed * skills_pilot\n",
    "        return f'{self.name_pilot} has finished setting his motorcycle. Mean speed that can be achieved: {round(self.setting_pilot,2)} km/h'\n",
    "\n",
    "    \n",
    "class Honda_Hrc(Moto):\n",
    "    def __init__(self, brand, model, acceleration, top_speed, handling, name_pilot):\n",
    "        super().__init__(brand, model, acceleration, top_speed, handling)\n",
    "        self.name_pilot = name_pilot\n",
    "\n",
    "    def pilot(self):\n",
    "        if self.name_pilot == 'Marc Marquez':\n",
    "            skills_pilot = 0.81\n",
    "        elif self.name_pilot == 'Dani Pedrosa':\n",
    "            skills_pilot = 0.79\n",
    "        self.setting_pilot = self.mean_speed * skills_pilot\n",
    "        return f'{self.name_pilot} has finished setting his motorcycle. Mean speed that can be achieved: {round(self.setting_pilot,2)} km/h'\n",
    "\n",
    "\n",
    "class Ducati(Moto):\n",
    "    def __init__(self, brand, model, acceleration, top_speed, handling, name_pilot):\n",
    "        super().__init__(brand, model, acceleration, top_speed, handling)\n",
    "        self.name_pilot = name_pilot\n",
    "\n",
    "    def pilot(self):\n",
    "        if self.name_pilot == 'Andrea Dovizioso':\n",
    "            skills_pilot = 0.80\n",
    "        elif self.name_pilot == 'Danilo Petrucci':\n",
    "            skills_pilot = 0.77\n",
    "        self.setting_pilot = self.mean_speed * skills_pilot\n",
    "        return f'{self.name_pilot} has finished setting his motorcycle. Mean speed that can be achieved: {round(self.setting_pilot,2)} km/h'\n"
   ]
  },
  {
   "cell_type": "markdown",
   "metadata": {},
   "source": [
    "<img src=\"https://amcn.com.au/wp-content/uploads/2017/03/660597.jpg\" width=\"500\" >"
   ]
  },
  {
   "cell_type": "markdown",
   "metadata": {},
   "source": [
    "****\n",
    "### Setting Moto\n",
    "****"
   ]
  },
  {
   "cell_type": "markdown",
   "metadata": {},
   "source": [
    "Create six variables that each contain the bike and the chosen rider"
   ]
  },
  {
   "cell_type": "code",
   "execution_count": 8,
   "metadata": {},
   "outputs": [],
   "source": [
    "yamaha_Rossi = Yamaha('Yamaha', 'M1', 0.75, 359, 0.78, 'Valentino Rossi')\n",
    "yamaha_Viñales = Yamaha('Yamaha', 'M1', 0.77, 360, 0.80, 'Maverick Viñales')\n",
    "honda_Marquez = Honda_Hrc('Honda', 'RC212V', 0.78, 362, 0.78, 'Marc Marquez')\n",
    "honda_Pedrosa = Honda_Hrc('Yamaha', 'RC212V', 0.77, 360, 0.81, 'Dani Pedrosa')\n",
    "ducati_Dovi = Ducati('Ducati', 'Desmosedici', 0.81, 365, 0.75, 'Andrea Dovizioso')\n",
    "ducati_Petrux = Ducati('Ducati', 'Desmosedici', 0.83, 362, 0.76, 'Danilo Petrucci')"
   ]
  },
  {
   "cell_type": "markdown",
   "metadata": {},
   "source": [
    "Call the **setup_moto** method for each rider and then the **pilot** method to print the motorcycle settings"
   ]
  },
  {
   "cell_type": "code",
   "execution_count": 9,
   "metadata": {},
   "outputs": [
    {
     "name": "stdout",
     "output_type": "stream",
     "text": [
      "Valentino Rossi has finished setting his motorcycle. Mean speed that can be achieved: 178.51 km/h\n",
      "Maverick Viñales has finished setting his motorcycle. Mean speed that can be achieved: 175.19 km/h\n",
      "Marc Marquez has finished setting his motorcycle. Mean speed that can be achieved: 178.4 km/h\n",
      "Dani Pedrosa has finished setting his motorcycle. Mean speed that can be achieved: 177.38 km/h\n",
      "Andrea Dovizioso has finished setting his motorcycle. Mean speed that can be achieved: 177.39 km/h\n",
      "Danilo Petrucci has finished setting his motorcycle. Mean speed that can be achieved: 175.83 km/h\n"
     ]
    }
   ],
   "source": [
    "yamaha_Rossi.setup_moto()\n",
    "yamaha_Viñales.setup_moto()\n",
    "honda_Marquez.setup_moto()\n",
    "honda_Pedrosa.setup_moto()\n",
    "ducati_Dovi.setup_moto()\n",
    "ducati_Petrux.setup_moto()\n",
    "\n",
    "print(yamaha_Rossi.pilot())\n",
    "print(yamaha_Viñales.pilot())\n",
    "print(honda_Marquez.pilot())\n",
    "print(honda_Pedrosa.pilot())\n",
    "print(ducati_Dovi.pilot())\n",
    "print(ducati_Petrux.pilot())"
   ]
  },
  {
   "attachments": {},
   "cell_type": "markdown",
   "metadata": {},
   "source": [
    "<img src=\"https://media-cdn.tripadvisor.com/media/photo-s/0f/1b/0f/b9/autodromo-del-mugello.jpg\" width=\"500\" >"
   ]
  },
  {
   "cell_type": "markdown",
   "metadata": {},
   "source": [
    "****\n",
    "### Circuit\n",
    "****"
   ]
  },
  {
   "cell_type": "markdown",
   "metadata": {},
   "source": [
    "Create a class named Circuit, use the __init__() function to assign values for *name* (str), *lenth* and *rounds* (int). <br>\n",
    "Then create three methods in the Circuit class.<br>\n",
    "**print_info** that show you a welcome phrase to the circuit. <br>\n",
    "**meteo** method, that randomly chooses a weather condition and assigns Bonus and Malus values to the drivers. <br>\n",
    "**Race** method, that iterates over the 23 laps the setting_pilot to multiplies it by a factor between 0.99 and 1.01. <br> This is to simulate the fact that the the average speed on the lap predicted during the race will change, depending on the driver's driving style and the fuel tank which is emptying during the race."
   ]
  },
  {
   "cell_type": "code",
   "execution_count": 12,
   "metadata": {},
   "outputs": [],
   "source": [
    "import random \n",
    "\n",
    "class Circuit:\n",
    "    def __init__(self, name, length, rounds):\n",
    "        self.name = name\n",
    "        self.length = length\n",
    "        self.rounds = rounds\n",
    "\n",
    "    def print_info(self):\n",
    "        print(f'''To all the lovers of the world championship of motorcycle welcome to our beautiful valley \n",
    "of {self.name}! {self.length} km, {self.rounds} laps. We wish you the most pleasant stay!\\n''') \n",
    "\n",
    "        \n",
    "    def meteo(self):\n",
    "        wheather = ['Sunny', 'Rainy', 'Cloudy', 'Windy']\n",
    "        meteo = random.choice(wheather)\n",
    "        print('Today\\'s weather:', meteo)\n",
    "        if meteo == 'Sunny':\n",
    "            yamaha_Rossi.setting_pilot = yamaha_Rossi.setting_pilot * 1.01 \n",
    "            yamaha_Viñales.setting_pilot =  yamaha_Viñales.setting_pilot * 1.01 \n",
    "            honda_Marquez.setting_pilot = honda_Marquez.setting_pilot *1.01\n",
    "            ducati_Dovi.setting_pilot = ducati_Dovi.setting_pilot * 0.99 \n",
    "            ducati_Petrux.setting_pilot = ducati_Petrux.setting_pilot * 0.99 \n",
    "            honda_Pedrosa.setting_pilot = honda_Pedrosa.setting_pilot * 0.99\n",
    "            print('\\nBonus weather: Rossi, Viñales and Marquez. Malus weather: Dovi, Petrux and Pedrosa\\n')\n",
    "        elif meteo == 'Rainy':\n",
    "            yamaha_Rossi.setting_pilot = yamaha_Rossi.setting_pilot * 1.01 \n",
    "            yamaha_Viñales.setting_pilot =  yamaha_Viñales.setting_pilot * 0.99 \n",
    "            honda_Marquez.setting_pilot = honda_Marquez.setting_pilot *0.99\n",
    "            ducati_Dovi.setting_pilot = ducati_Dovi.setting_pilot * 1.01 \n",
    "            ducati_Petrux.setting_pilot = ducati_Petrux.setting_pilot * 0.99 \n",
    "            honda_Pedrosa.setting_pilot = honda_Pedrosa.setting_pilot * 1.01\n",
    "            print('\\nBonus weather: Rossi, Dovi and Pedrosa. Malus weather: Viñales, Marquez and Petrux\\n')\n",
    "        elif meteo == 'Cloudy':\n",
    "            yamaha_Rossi.setting_pilot = yamaha_Rossi.setting_pilot * 0.99 \n",
    "            yamaha_Viñales.setting_pilot =  yamaha_Viñales.setting_pilot * 1.01 \n",
    "            honda_Marquez.setting_pilot = honda_Marquez.setting_pilot *0.99\n",
    "            ducati_Dovi.setting_pilot = ducati_Dovi.setting_pilot * 1.01 \n",
    "            ducati_Petrux.setting_pilot = ducati_Petrux.setting_pilot * 1.01 \n",
    "            honda_Pedrosa.setting_pilot = honda_Pedrosa.setting_pilot * 0.99\n",
    "            print('\\nBonus weather: Viñales, Dovi and Petrux. Malus weather: Rossi, Marquez and Pedrosa\\n')    \n",
    "        elif meteo == 'Windy':\n",
    "            yamaha_Rossi.setting_pilot = yamaha_Rossi.setting_pilot * 0.99 \n",
    "            yamaha_Viñales.setting_pilot =  yamaha_Viñales.setting_pilot * 0.99\n",
    "            honda_Marquez.setting_pilot = honda_Marquez.setting_pilot * 1.01\n",
    "            ducati_Dovi.setting_pilot = ducati_Dovi.setting_pilot * 0.99 \n",
    "            ducati_Petrux.setting_pilot = ducati_Petrux.setting_pilot * 1.01 \n",
    "            honda_Pedrosa.setting_pilot = honda_Pedrosa.setting_pilot * 1.01  \n",
    "            print('\\nBonus weather: Marquez, Petrux and Dovi. Malus weather: Rossi, Viñales and Dovi\\n')\n",
    "            \n",
    "    def Race(self):\n",
    "        pilots = ['Rossi', 'Viñales', 'Marquez', 'Pedrosa', 'Dovizioso', 'Petrucci']\n",
    "        for lap in range(self.rounds):\n",
    "            position = []\n",
    "            print(f'\\nLap {lap+1}\\n')\n",
    "            position.append(yamaha_Rossi.setting_pilot * random.uniform(0.99,1.01))\n",
    "            position.append(yamaha_Viñales.setting_pilot * random.uniform(0.99,1.01))\n",
    "            position.append(honda_Marquez.setting_pilot * random.uniform(0.99,1.01))\n",
    "            position.append(ducati_Dovi.setting_pilot * random.uniform(0.99,1.01))\n",
    "            position.append(ducati_Petrux.setting_pilot * random.uniform(0.99,1.01))\n",
    "            position.append(honda_Pedrosa.setting_pilot * random.uniform(0.99,1.01))\n",
    "            new_position = [*position]\n",
    "            new_position.sort(reverse= True)\n",
    "            orden = []\n",
    "            for x in new_position:              \n",
    "                orden.append(position.index(x))\n",
    "            for p in orden:\n",
    "                print(f'{orden.index(p)+1} position: {pilots[p]}')"
   ]
  },
  {
   "cell_type": "markdown",
   "metadata": {},
   "source": [
    "<img src=\"https://www.esportsmag.it/wp-content/uploads/2020/03/mugello.jpg\" width=\"500\" >"
   ]
  },
  {
   "cell_type": "markdown",
   "metadata": {},
   "source": [
    "# Time to Race!\n",
    "****"
   ]
  },
  {
   "cell_type": "markdown",
   "metadata": {},
   "source": [
    "*it's time to start! calls all previously created classes, functions and methods*\n",
    "\n"
   ]
  },
  {
   "cell_type": "markdown",
   "metadata": {},
   "source": [
    "Create a *mugello* variable from the circuit class (*length = 5.245 km and 23 laps) <br>\n",
    "**Mugello.print_info()** method to see the circuit info.\n",
    "Then the **mugello.meteo()** method will show you the weather conditions at the start <br>\n",
    "Finally **mugello.Race()** will start the races!"
   ]
  },
  {
   "cell_type": "markdown",
   "metadata": {},
   "source": [
    "P.S. Remember to assign true parameters to the drivers. **Valentino Rossi must start favorite! :)**"
   ]
  },
  {
   "cell_type": "code",
   "execution_count": 18,
   "metadata": {},
   "outputs": [
    {
     "name": "stdout",
     "output_type": "stream",
     "text": [
      "To all the lovers of the world championship of motorcycle welcome to our beautiful valley \n",
      "of Mugello! 5.245 km, 23 laps. We wish you the most pleasant stay!\n",
      "\n",
      "Today's weather: Sunny\n",
      "\n",
      "Bonus weather: Rossi, Viñales and Marquez. Malus weather: Dovi, Petrux and Pedrosa\n",
      "\n",
      "\n",
      "Lap 1\n",
      "\n",
      "1 position: Viñales\n",
      "2 position: Marquez\n",
      "3 position: Rossi\n",
      "4 position: Pedrosa\n",
      "5 position: Dovizioso\n",
      "6 position: Petrucci\n",
      "\n",
      "Lap 2\n",
      "\n",
      "1 position: Marquez\n",
      "2 position: Viñales\n",
      "3 position: Rossi\n",
      "4 position: Dovizioso\n",
      "5 position: Pedrosa\n",
      "6 position: Petrucci\n",
      "\n",
      "Lap 3\n",
      "\n",
      "1 position: Rossi\n",
      "2 position: Viñales\n",
      "3 position: Marquez\n",
      "4 position: Pedrosa\n",
      "5 position: Dovizioso\n",
      "6 position: Petrucci\n",
      "\n",
      "Lap 4\n",
      "\n",
      "1 position: Viñales\n",
      "2 position: Rossi\n",
      "3 position: Marquez\n",
      "4 position: Pedrosa\n",
      "5 position: Dovizioso\n",
      "6 position: Petrucci\n",
      "\n",
      "Lap 5\n",
      "\n",
      "1 position: Viñales\n",
      "2 position: Rossi\n",
      "3 position: Marquez\n",
      "4 position: Pedrosa\n",
      "5 position: Petrucci\n",
      "6 position: Dovizioso\n",
      "\n",
      "Lap 6\n",
      "\n",
      "1 position: Rossi\n",
      "2 position: Viñales\n",
      "3 position: Marquez\n",
      "4 position: Pedrosa\n",
      "5 position: Dovizioso\n",
      "6 position: Petrucci\n",
      "\n",
      "Lap 7\n",
      "\n",
      "1 position: Rossi\n",
      "2 position: Viñales\n",
      "3 position: Marquez\n",
      "4 position: Pedrosa\n",
      "5 position: Dovizioso\n",
      "6 position: Petrucci\n",
      "\n",
      "Lap 8\n",
      "\n",
      "1 position: Viñales\n",
      "2 position: Rossi\n",
      "3 position: Marquez\n",
      "4 position: Pedrosa\n",
      "5 position: Petrucci\n",
      "6 position: Dovizioso\n",
      "\n",
      "Lap 9\n",
      "\n",
      "1 position: Viñales\n",
      "2 position: Marquez\n",
      "3 position: Rossi\n",
      "4 position: Pedrosa\n",
      "5 position: Dovizioso\n",
      "6 position: Petrucci\n",
      "\n",
      "Lap 10\n",
      "\n",
      "1 position: Viñales\n",
      "2 position: Rossi\n",
      "3 position: Marquez\n",
      "4 position: Dovizioso\n",
      "5 position: Pedrosa\n",
      "6 position: Petrucci\n",
      "\n",
      "Lap 11\n",
      "\n",
      "1 position: Marquez\n",
      "2 position: Rossi\n",
      "3 position: Viñales\n",
      "4 position: Pedrosa\n",
      "5 position: Dovizioso\n",
      "6 position: Petrucci\n",
      "\n",
      "Lap 12\n",
      "\n",
      "1 position: Marquez\n",
      "2 position: Viñales\n",
      "3 position: Rossi\n",
      "4 position: Dovizioso\n",
      "5 position: Pedrosa\n",
      "6 position: Petrucci\n",
      "\n",
      "Lap 13\n",
      "\n",
      "1 position: Marquez\n",
      "2 position: Viñales\n",
      "3 position: Rossi\n",
      "4 position: Pedrosa\n",
      "5 position: Dovizioso\n",
      "6 position: Petrucci\n",
      "\n",
      "Lap 14\n",
      "\n",
      "1 position: Marquez\n",
      "2 position: Rossi\n",
      "3 position: Viñales\n",
      "4 position: Pedrosa\n",
      "5 position: Dovizioso\n",
      "6 position: Petrucci\n",
      "\n",
      "Lap 15\n",
      "\n",
      "1 position: Viñales\n",
      "2 position: Rossi\n",
      "3 position: Marquez\n",
      "4 position: Pedrosa\n",
      "5 position: Dovizioso\n",
      "6 position: Petrucci\n",
      "\n",
      "Lap 16\n",
      "\n",
      "1 position: Rossi\n",
      "2 position: Viñales\n",
      "3 position: Marquez\n",
      "4 position: Pedrosa\n",
      "5 position: Dovizioso\n",
      "6 position: Petrucci\n",
      "\n",
      "Lap 17\n",
      "\n",
      "1 position: Rossi\n",
      "2 position: Marquez\n",
      "3 position: Viñales\n",
      "4 position: Pedrosa\n",
      "5 position: Dovizioso\n",
      "6 position: Petrucci\n",
      "\n",
      "Lap 18\n",
      "\n",
      "1 position: Rossi\n",
      "2 position: Marquez\n",
      "3 position: Viñales\n",
      "4 position: Pedrosa\n",
      "5 position: Dovizioso\n",
      "6 position: Petrucci\n",
      "\n",
      "Lap 19\n",
      "\n",
      "1 position: Viñales\n",
      "2 position: Rossi\n",
      "3 position: Marquez\n",
      "4 position: Pedrosa\n",
      "5 position: Dovizioso\n",
      "6 position: Petrucci\n",
      "\n",
      "Lap 20\n",
      "\n",
      "1 position: Viñales\n",
      "2 position: Marquez\n",
      "3 position: Rossi\n",
      "4 position: Pedrosa\n",
      "5 position: Dovizioso\n",
      "6 position: Petrucci\n",
      "\n",
      "Lap 21\n",
      "\n",
      "1 position: Viñales\n",
      "2 position: Marquez\n",
      "3 position: Rossi\n",
      "4 position: Pedrosa\n",
      "5 position: Dovizioso\n",
      "6 position: Petrucci\n",
      "\n",
      "Lap 22\n",
      "\n",
      "1 position: Viñales\n",
      "2 position: Rossi\n",
      "3 position: Marquez\n",
      "4 position: Pedrosa\n",
      "5 position: Dovizioso\n",
      "6 position: Petrucci\n",
      "\n",
      "Lap 23\n",
      "\n",
      "1 position: Rossi\n",
      "2 position: Viñales\n",
      "3 position: Marquez\n",
      "4 position: Pedrosa\n",
      "5 position: Dovizioso\n",
      "6 position: Petrucci\n"
     ]
    }
   ],
   "source": [
    "mugello = (Circuit('Mugello', 5.245, 23))\n",
    "mugello.print_info()\n",
    "mugello.meteo()\n",
    "mugello.Race()"
   ]
  }
 ],
 "metadata": {
  "kernelspec": {
   "display_name": "Python 3",
   "language": "python",
   "name": "python3"
  },
  "language_info": {
   "codemirror_mode": {
    "name": "ipython",
    "version": 3
   },
   "file_extension": ".py",
   "mimetype": "text/x-python",
   "name": "python",
   "nbconvert_exporter": "python",
   "pygments_lexer": "ipython3",
   "version": "3.7.6"
  }
 },
 "nbformat": 4,
 "nbformat_minor": 4
}
